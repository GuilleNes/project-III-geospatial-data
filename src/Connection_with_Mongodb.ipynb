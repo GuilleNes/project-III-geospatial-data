{
 "cells": [
  {
   "cell_type": "code",
   "execution_count": 1,
   "id": "c3c8e239",
   "metadata": {},
   "outputs": [],
   "source": [
    "from pymongo import MongoClient\n",
    "import pandas as pd\n",
    "import functions as fun\n",
    "import os\n",
    "from dotenv import load_dotenv\n",
    "# import requests\n",
    "# import re"
   ]
  },
  {
   "cell_type": "code",
   "execution_count": 2,
   "id": "06b71053",
   "metadata": {},
   "outputs": [],
   "source": [
    "client = MongoClient(\"localhost:27017\")\n",
    "db = client[\"Ironhack\"]\n",
    "c = db.get_collection(\"Companies\")"
   ]
  },
  {
   "cell_type": "code",
   "execution_count": 3,
   "id": "9d930021",
   "metadata": {},
   "outputs": [],
   "source": [
    "result = c.find_one()"
   ]
  },
  {
   "cell_type": "code",
   "execution_count": 5,
   "id": "11b06a2b",
   "metadata": {},
   "outputs": [
    {
     "data": {
      "text/plain": [
       "511"
      ]
     },
     "execution_count": 5,
     "metadata": {},
     "output_type": "execute_result"
    }
   ],
   "source": [
    "\n",
    "\n",
    "condition_one = {\"description\": {\"$regex\": \"design\"}}\n",
    "condition_two = {\"tag_list\": {\"$regex\": \"design\"}}\n",
    "condition_three = {\"name\": {\"$regex\": \"design\"}}\n",
    "condition_four = {\"category_code\": {\"$regex\": \"design\"}}\n",
    "condition_five = {\"total_money_raised\": {\"$regex\": \"M\"}}\n",
    "condition_six = {\"total_money_raised\": {\"$regex\": \"B\"}}\n",
    "\n",
    "projection = {\"name\": 1, \"number_of_employees\": 1, \"offices\": 1,\"_id\":0}\n",
    "result = list(c.find({\n",
    "    \"$or\": [condition_one, condition_two, condition_three, condition_four, condition_five, condition_six],\n",
    "    \"number_of_employees\": {\"$gte\": 100}\n",
    "}, projection))\n",
    "len(result)\n"
   ]
  },
  {
   "cell_type": "code",
   "execution_count": 5,
   "id": "0a09f6d6",
   "metadata": {},
   "outputs": [],
   "source": [
    "df = pd.DataFrame(result)"
   ]
  },
  {
   "cell_type": "code",
   "execution_count": 6,
   "id": "411c3157",
   "metadata": {},
   "outputs": [
    {
     "data": {
      "text/plain": [
       "{'description': '',\n",
       " 'address1': '1355 Market St.',\n",
       " 'address2': '',\n",
       " 'zip_code': '94103',\n",
       " 'city': 'San Francisco',\n",
       " 'state_code': 'CA',\n",
       " 'country_code': 'USA',\n",
       " 'latitude': 37.7768052,\n",
       " 'longitude': -122.4169244}"
      ]
     },
     "execution_count": 6,
     "metadata": {},
     "output_type": "execute_result"
    }
   ],
   "source": [
    "list_offices = df[\"offices\"]\n",
    "list_offices[1][0]"
   ]
  },
  {
   "cell_type": "code",
   "execution_count": 8,
   "id": "0e04273c",
   "metadata": {
    "scrolled": true
   },
   "outputs": [],
   "source": [
    "fun.get_info(list_offices, df,  \"Country\", \"country_code\")"
   ]
  },
  {
   "cell_type": "code",
   "execution_count": 9,
   "id": "b79f4452",
   "metadata": {},
   "outputs": [],
   "source": [
    "fun.get_info(list_offices, df,\"Zip_code\", \"zip_code\")"
   ]
  },
  {
   "cell_type": "code",
   "execution_count": 10,
   "id": "395c34e8",
   "metadata": {},
   "outputs": [],
   "source": [
    "fun.get_info(list_offices, df,\"City\", \"city\")"
   ]
  },
  {
   "cell_type": "code",
   "execution_count": 11,
   "id": "c4b0eb59",
   "metadata": {},
   "outputs": [],
   "source": [
    "fun.get_info(list_offices, df,\"Address\", \"address1\")"
   ]
  },
  {
   "cell_type": "code",
   "execution_count": 12,
   "id": "f011b34f",
   "metadata": {},
   "outputs": [],
   "source": [
    "fun.get_info(list_offices, df,\"Lat\", \"latitude\")"
   ]
  },
  {
   "cell_type": "code",
   "execution_count": 13,
   "id": "5384a262",
   "metadata": {},
   "outputs": [],
   "source": [
    "fun.get_info(list_offices, df,\"Long\", \"longitude\")"
   ]
  },
  {
   "cell_type": "code",
   "execution_count": 14,
   "id": "2a77d30d",
   "metadata": {},
   "outputs": [],
   "source": [
    "fun.drop_column(df, \"offices\")"
   ]
  },
  {
   "cell_type": "code",
   "execution_count": 15,
   "id": "2a5dee40",
   "metadata": {},
   "outputs": [],
   "source": [
    "fun.drop_nan(df)"
   ]
  },
  {
   "cell_type": "code",
   "execution_count": 16,
   "id": "2f5db216",
   "metadata": {
    "scrolled": true
   },
   "outputs": [
    {
     "data": {
      "text/html": [
       "<div>\n",
       "<style scoped>\n",
       "    .dataframe tbody tr th:only-of-type {\n",
       "        vertical-align: middle;\n",
       "    }\n",
       "\n",
       "    .dataframe tbody tr th {\n",
       "        vertical-align: top;\n",
       "    }\n",
       "\n",
       "    .dataframe thead th {\n",
       "        text-align: right;\n",
       "    }\n",
       "</style>\n",
       "<table border=\"1\" class=\"dataframe\">\n",
       "  <thead>\n",
       "    <tr style=\"text-align: right;\">\n",
       "      <th></th>\n",
       "      <th>name</th>\n",
       "      <th>number_of_employees</th>\n",
       "      <th>Country</th>\n",
       "      <th>Zip_code</th>\n",
       "      <th>City</th>\n",
       "      <th>Address</th>\n",
       "      <th>Lat</th>\n",
       "      <th>Long</th>\n",
       "    </tr>\n",
       "  </thead>\n",
       "  <tbody>\n",
       "    <tr>\n",
       "      <th>0</th>\n",
       "      <td>Facebook</td>\n",
       "      <td>5299</td>\n",
       "      <td>USA</td>\n",
       "      <td>94025</td>\n",
       "      <td>Menlo Park</td>\n",
       "      <td>1601 Willow Road</td>\n",
       "      <td>37.41605</td>\n",
       "      <td>-122.151801</td>\n",
       "    </tr>\n",
       "    <tr>\n",
       "      <th>1</th>\n",
       "      <td>Twitter</td>\n",
       "      <td>1300</td>\n",
       "      <td>USA</td>\n",
       "      <td>94103</td>\n",
       "      <td>San Francisco</td>\n",
       "      <td>1355 Market St.</td>\n",
       "      <td>37.776805</td>\n",
       "      <td>-122.416924</td>\n",
       "    </tr>\n",
       "    <tr>\n",
       "      <th>2</th>\n",
       "      <td>eBay</td>\n",
       "      <td>15000</td>\n",
       "      <td>USA</td>\n",
       "      <td>95125</td>\n",
       "      <td>San Jose</td>\n",
       "      <td>2145 Hamilton Avenue</td>\n",
       "      <td>37.295005</td>\n",
       "      <td>-121.930035</td>\n",
       "    </tr>\n",
       "    <tr>\n",
       "      <th>3</th>\n",
       "      <td>Cisco</td>\n",
       "      <td>63000</td>\n",
       "      <td>USA</td>\n",
       "      <td>95134</td>\n",
       "      <td>San Jose</td>\n",
       "      <td>170 West Tasman Dr.</td>\n",
       "      <td>37.408802</td>\n",
       "      <td>-121.95377</td>\n",
       "    </tr>\n",
       "    <tr>\n",
       "      <th>4</th>\n",
       "      <td>Yahoo!</td>\n",
       "      <td>13600</td>\n",
       "      <td>USA</td>\n",
       "      <td>94089</td>\n",
       "      <td>Sunnyvale</td>\n",
       "      <td>701 First Avenue</td>\n",
       "      <td>37.418531</td>\n",
       "      <td>-122.025485</td>\n",
       "    </tr>\n",
       "    <tr>\n",
       "      <th>...</th>\n",
       "      <td>...</td>\n",
       "      <td>...</td>\n",
       "      <td>...</td>\n",
       "      <td>...</td>\n",
       "      <td>...</td>\n",
       "      <td>...</td>\n",
       "      <td>...</td>\n",
       "      <td>...</td>\n",
       "    </tr>\n",
       "    <tr>\n",
       "      <th>380</th>\n",
       "      <td>Mashable</td>\n",
       "      <td>100</td>\n",
       "      <td>USA</td>\n",
       "      <td>10010-3646</td>\n",
       "      <td>New York</td>\n",
       "      <td>304 Park Ave South</td>\n",
       "      <td>40.740154</td>\n",
       "      <td>-73.986742</td>\n",
       "    </tr>\n",
       "    <tr>\n",
       "      <th>381</th>\n",
       "      <td>SpringSoft</td>\n",
       "      <td>400</td>\n",
       "      <td>USA</td>\n",
       "      <td>95110</td>\n",
       "      <td>San Jose</td>\n",
       "      <td>2025 Gateway Place, Suite 400</td>\n",
       "      <td>37.37027</td>\n",
       "      <td>-121.924053</td>\n",
       "    </tr>\n",
       "    <tr>\n",
       "      <th>382</th>\n",
       "      <td>MentorMate</td>\n",
       "      <td>216</td>\n",
       "      <td>USA</td>\n",
       "      <td>55408</td>\n",
       "      <td>Minneapolis</td>\n",
       "      <td>3036 Hennepin Avenue</td>\n",
       "      <td>44.948786</td>\n",
       "      <td>-93.161038</td>\n",
       "    </tr>\n",
       "    <tr>\n",
       "      <th>383</th>\n",
       "      <td>InfoLogix</td>\n",
       "      <td>206</td>\n",
       "      <td>USA</td>\n",
       "      <td>19040</td>\n",
       "      <td>Hatboro</td>\n",
       "      <td>101 East County Line Road</td>\n",
       "      <td>40.192329</td>\n",
       "      <td>-75.106923</td>\n",
       "    </tr>\n",
       "    <tr>\n",
       "      <th>384</th>\n",
       "      <td>smartFOCUS</td>\n",
       "      <td>550</td>\n",
       "      <td>GBR</td>\n",
       "      <td>BS1 6NP</td>\n",
       "      <td>Bristol</td>\n",
       "      <td>One Redcliff Street</td>\n",
       "      <td>51.452512</td>\n",
       "      <td>-2.590974</td>\n",
       "    </tr>\n",
       "  </tbody>\n",
       "</table>\n",
       "<p>385 rows × 8 columns</p>\n",
       "</div>"
      ],
      "text/plain": [
       "           name  number_of_employees Country    Zip_code           City  \\\n",
       "0      Facebook                 5299     USA       94025     Menlo Park   \n",
       "1       Twitter                 1300     USA       94103  San Francisco   \n",
       "2          eBay                15000     USA       95125       San Jose   \n",
       "3         Cisco                63000     USA       95134       San Jose   \n",
       "4        Yahoo!                13600     USA       94089      Sunnyvale   \n",
       "..          ...                  ...     ...         ...            ...   \n",
       "380    Mashable                  100     USA  10010-3646       New York   \n",
       "381  SpringSoft                  400     USA       95110       San Jose   \n",
       "382  MentorMate                  216     USA       55408    Minneapolis   \n",
       "383   InfoLogix                  206     USA       19040        Hatboro   \n",
       "384  smartFOCUS                  550     GBR     BS1 6NP        Bristol   \n",
       "\n",
       "                           Address        Lat        Long  \n",
       "0                 1601 Willow Road   37.41605 -122.151801  \n",
       "1                  1355 Market St.  37.776805 -122.416924  \n",
       "2             2145 Hamilton Avenue  37.295005 -121.930035  \n",
       "3              170 West Tasman Dr.  37.408802  -121.95377  \n",
       "4                 701 First Avenue  37.418531 -122.025485  \n",
       "..                             ...        ...         ...  \n",
       "380             304 Park Ave South  40.740154  -73.986742  \n",
       "381  2025 Gateway Place, Suite 400   37.37027 -121.924053  \n",
       "382           3036 Hennepin Avenue  44.948786  -93.161038  \n",
       "383      101 East County Line Road  40.192329  -75.106923  \n",
       "384            One Redcliff Street  51.452512   -2.590974  \n",
       "\n",
       "[385 rows x 8 columns]"
      ]
     },
     "execution_count": 16,
     "metadata": {},
     "output_type": "execute_result"
    }
   ],
   "source": [
    "df"
   ]
  },
  {
   "cell_type": "code",
   "execution_count": 17,
   "id": "e9f7bd68",
   "metadata": {},
   "outputs": [],
   "source": [
    "# df.to_csv(\"../data/df.csv\", index=False)"
   ]
  }
 ],
 "metadata": {
  "kernelspec": {
   "display_name": "Python 3 (ipykernel)",
   "language": "python",
   "name": "python3"
  },
  "language_info": {
   "codemirror_mode": {
    "name": "ipython",
    "version": 3
   },
   "file_extension": ".py",
   "mimetype": "text/x-python",
   "name": "python",
   "nbconvert_exporter": "python",
   "pygments_lexer": "ipython3",
   "version": "3.9.13"
  }
 },
 "nbformat": 4,
 "nbformat_minor": 5
}
