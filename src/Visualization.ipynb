{
 "cells": [
  {
   "cell_type": "code",
   "execution_count": 1,
   "id": "712fc0e3",
   "metadata": {},
   "outputs": [],
   "source": [
    "from pymongo import MongoClient\n",
    "import pandas as pd\n",
    "import functions as fun\n",
    "import os\n",
    "from dotenv import load_dotenv"
   ]
  },
  {
   "cell_type": "code",
   "execution_count": 2,
   "id": "44ad91c2",
   "metadata": {},
   "outputs": [
    {
     "data": {
      "text/html": [
       "<div>\n",
       "<style scoped>\n",
       "    .dataframe tbody tr th:only-of-type {\n",
       "        vertical-align: middle;\n",
       "    }\n",
       "\n",
       "    .dataframe tbody tr th {\n",
       "        vertical-align: top;\n",
       "    }\n",
       "\n",
       "    .dataframe thead th {\n",
       "        text-align: right;\n",
       "    }\n",
       "</style>\n",
       "<table border=\"1\" class=\"dataframe\">\n",
       "  <thead>\n",
       "    <tr style=\"text-align: right;\">\n",
       "      <th></th>\n",
       "      <th>name</th>\n",
       "      <th>number_of_employees</th>\n",
       "      <th>Country</th>\n",
       "      <th>Zip_code</th>\n",
       "      <th>City</th>\n",
       "      <th>Address</th>\n",
       "      <th>Lat</th>\n",
       "      <th>Long</th>\n",
       "      <th>City_count</th>\n",
       "    </tr>\n",
       "  </thead>\n",
       "  <tbody>\n",
       "    <tr>\n",
       "      <th>8</th>\n",
       "      <td>Yelp</td>\n",
       "      <td>800</td>\n",
       "      <td>USA</td>\n",
       "      <td>94103</td>\n",
       "      <td>San Francisco</td>\n",
       "      <td>706 Mission Street</td>\n",
       "      <td>37.786183</td>\n",
       "      <td>-122.402195</td>\n",
       "      <td>50.0</td>\n",
       "    </tr>\n",
       "  </tbody>\n",
       "</table>\n",
       "</div>"
      ],
      "text/plain": [
       "   name  number_of_employees Country Zip_code           City  \\\n",
       "8  Yelp                  800     USA    94103  San Francisco   \n",
       "\n",
       "              Address        Lat        Long  City_count  \n",
       "8  706 Mission Street  37.786183 -122.402195        50.0  "
      ]
     },
     "execution_count": 2,
     "metadata": {},
     "output_type": "execute_result"
    }
   ],
   "source": [
    "df = pd.read_csv(\"../Data/df.csv\")\n",
    "df.sample()"
   ]
  },
  {
   "cell_type": "code",
   "execution_count": 3,
   "id": "632c5c3e",
   "metadata": {},
   "outputs": [
    {
     "data": {
      "text/plain": [
       "USA    186\n",
       "GBR      8\n",
       "FRA      6\n",
       "Name: Country, dtype: int64"
      ]
     },
     "execution_count": 3,
     "metadata": {},
     "output_type": "execute_result"
    }
   ],
   "source": [
    "df[\"Country\"].value_counts()"
   ]
  },
  {
   "cell_type": "code",
   "execution_count": 4,
   "id": "fbc7a3f3",
   "metadata": {
    "scrolled": true
   },
   "outputs": [
    {
     "data": {
      "text/plain": [
       "San Francisco    50\n",
       "New York         30\n",
       "San Jose         16\n",
       "Mountain View    16\n",
       "San Mateo        11\n",
       "Palo Alto        11\n",
       "Sunnyvale         9\n",
       "Seattle           8\n",
       "London            8\n",
       "Redwood City      7\n",
       "Chicago           7\n",
       "Cambridge         6\n",
       "Paris             6\n",
       "Austin            5\n",
       "Waltham           5\n",
       "Los Angeles       5\n",
       "Name: City, dtype: int64"
      ]
     },
     "execution_count": 4,
     "metadata": {},
     "output_type": "execute_result"
    }
   ],
   "source": [
    "df[\"City\"].value_counts()"
   ]
  },
  {
   "cell_type": "code",
   "execution_count": 5,
   "id": "4a34ec83",
   "metadata": {},
   "outputs": [],
   "source": [
    "fun.value_counts(df, \"City_count\", \"City\")\n"
   ]
  },
  {
   "cell_type": "code",
   "execution_count": 6,
   "id": "e1299c53",
   "metadata": {},
   "outputs": [],
   "source": [
    "df = fun.keep_value(df, \"City_count\", 5.0)\n"
   ]
  },
  {
   "cell_type": "code",
   "execution_count": 7,
   "id": "fbe89a5f",
   "metadata": {
    "scrolled": true
   },
   "outputs": [
    {
     "data": {
      "text/plain": [
       "San Francisco    50\n",
       "New York         30\n",
       "San Jose         16\n",
       "Mountain View    16\n",
       "San Mateo        11\n",
       "Palo Alto        11\n",
       "Sunnyvale         9\n",
       "Seattle           8\n",
       "London            8\n",
       "Redwood City      7\n",
       "Chicago           7\n",
       "Cambridge         6\n",
       "Paris             6\n",
       "Austin            5\n",
       "Waltham           5\n",
       "Los Angeles       5\n",
       "Name: City, dtype: int64"
      ]
     },
     "execution_count": 7,
     "metadata": {},
     "output_type": "execute_result"
    }
   ],
   "source": [
    "df[\"City\"].value_counts()"
   ]
  },
  {
   "cell_type": "code",
   "execution_count": 8,
   "id": "f31cbe91",
   "metadata": {},
   "outputs": [],
   "source": [
    "# df.to_csv(\"../data/df.csv\", index=False)"
   ]
  },
  {
   "cell_type": "markdown",
   "id": "14c97c22",
   "metadata": {},
   "source": [
    "# Trying to keep different cities in different areas, we are going to keep for check the cities of San Francisco(USA), Seattle(USA), Chicago(USA), London(UK) and Cambridge(USA).\n"
   ]
  },
  {
   "cell_type": "code",
   "execution_count": 9,
   "id": "ed65720e",
   "metadata": {},
   "outputs": [],
   "source": [
    "San_Francisco = 37.7871253,-122.4015358\n",
    "Seattle = 47.6251419,-122.3268577\n",
    "Chicago = 41.869276, -87.626694\n",
    "London = 51.4621272,-0.1162654\n",
    "Cambridge_USA = 42.3731956,-71.1198561\n"
   ]
  },
  {
   "cell_type": "code",
   "execution_count": 10,
   "id": "ac6ef234",
   "metadata": {},
   "outputs": [],
   "source": [
    "sub_SF = fun.do_subset(df, \"San Francisco\")\n",
    "sub_SF.to_csv(\"../data/sub_SF.csv\", index=False)\n",
    "\n",
    "sub_SE = fun.do_subset(df, \"Seattle\")\n",
    "sub_SE.to_csv(\"../data/sub_SE.csv\", index=False)\n",
    "\n",
    "sub_CH = fun.do_subset(df, \"Chicago\")\n",
    "sub_CH.to_csv(\"../data/sub_CH.csv\", index=False)\n",
    "\n",
    "sub_LO = fun.do_subset(df, \"London\")\n",
    "sub_LO.to_csv(\"../data/sub_LO.csv\", index=False)\n",
    "\n",
    "sub_CA = fun.do_subset(df, \"Cambridge\")\n",
    "sub_CA.to_csv(\"../data/sub_CA.csv\", index=False)"
   ]
  }
 ],
 "metadata": {
  "kernelspec": {
   "display_name": "Python 3 (ipykernel)",
   "language": "python",
   "name": "python3"
  },
  "language_info": {
   "codemirror_mode": {
    "name": "ipython",
    "version": 3
   },
   "file_extension": ".py",
   "mimetype": "text/x-python",
   "name": "python",
   "nbconvert_exporter": "python",
   "pygments_lexer": "ipython3",
   "version": "3.9.13"
  }
 },
 "nbformat": 4,
 "nbformat_minor": 5
}
