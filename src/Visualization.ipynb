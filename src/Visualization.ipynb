{
 "cells": [
  {
   "cell_type": "code",
   "execution_count": 1,
   "id": "712fc0e3",
   "metadata": {},
   "outputs": [],
   "source": [
    "from pymongo import MongoClient\n",
    "import pandas as pd\n",
    "import functions as fun\n",
    "import os\n",
    "from dotenv import load_dotenv"
   ]
  },
  {
   "cell_type": "code",
   "execution_count": 17,
   "id": "44ad91c2",
   "metadata": {},
   "outputs": [
    {
     "data": {
      "text/html": [
       "<div>\n",
       "<style scoped>\n",
       "    .dataframe tbody tr th:only-of-type {\n",
       "        vertical-align: middle;\n",
       "    }\n",
       "\n",
       "    .dataframe tbody tr th {\n",
       "        vertical-align: top;\n",
       "    }\n",
       "\n",
       "    .dataframe thead th {\n",
       "        text-align: right;\n",
       "    }\n",
       "</style>\n",
       "<table border=\"1\" class=\"dataframe\">\n",
       "  <thead>\n",
       "    <tr style=\"text-align: right;\">\n",
       "      <th></th>\n",
       "      <th>name</th>\n",
       "      <th>number_of_employees</th>\n",
       "      <th>Country</th>\n",
       "      <th>Zip_code</th>\n",
       "      <th>City</th>\n",
       "      <th>Address</th>\n",
       "      <th>Lat</th>\n",
       "      <th>Long</th>\n",
       "      <th>City_count</th>\n",
       "    </tr>\n",
       "  </thead>\n",
       "  <tbody>\n",
       "    <tr>\n",
       "      <th>116</th>\n",
       "      <td>NetSpend</td>\n",
       "      <td>300</td>\n",
       "      <td>USA</td>\n",
       "      <td>78768-2136</td>\n",
       "      <td>Austin</td>\n",
       "      <td>PO Box 2136</td>\n",
       "      <td>30.2667</td>\n",
       "      <td>-97.7428</td>\n",
       "      <td>5.0</td>\n",
       "    </tr>\n",
       "  </tbody>\n",
       "</table>\n",
       "</div>"
      ],
      "text/plain": [
       "         name  number_of_employees Country    Zip_code    City      Address  \\\n",
       "116  NetSpend                  300     USA  78768-2136  Austin  PO Box 2136   \n",
       "\n",
       "         Lat     Long  City_count  \n",
       "116  30.2667 -97.7428         5.0  "
      ]
     },
     "execution_count": 17,
     "metadata": {},
     "output_type": "execute_result"
    }
   ],
   "source": [
    "df = pd.read_csv(\"../Data/df.csv\")\n",
    "df.sample()"
   ]
  },
  {
   "cell_type": "code",
   "execution_count": 3,
   "id": "632c5c3e",
   "metadata": {},
   "outputs": [
    {
     "data": {
      "text/plain": [
       "USA    315\n",
       "GBR     11\n",
       "FRA      9\n",
       "CAN      9\n",
       "DEU      7\n",
       "IND      5\n",
       "ESP      4\n",
       "NLD      3\n",
       "CHN      2\n",
       "BRA      2\n",
       "CZE      1\n",
       "PAK      1\n",
       "BEL      1\n",
       "DNK      1\n",
       "ARG      1\n",
       "HUN      1\n",
       "LUX      1\n",
       "MYS      1\n",
       "SWE      1\n",
       "FIN      1\n",
       "SGP      1\n",
       "ISR      1\n",
       "Name: Country, dtype: int64"
      ]
     },
     "execution_count": 3,
     "metadata": {},
     "output_type": "execute_result"
    }
   ],
   "source": [
    "df[\"Country\"].value_counts()"
   ]
  },
  {
   "cell_type": "code",
   "execution_count": 4,
   "id": "fbc7a3f3",
   "metadata": {
    "scrolled": true
   },
   "outputs": [
    {
     "data": {
      "text/plain": [
       "San Francisco    50\n",
       "New York         30\n",
       "San Jose         16\n",
       "Mountain View    16\n",
       "Palo Alto        11\n",
       "                 ..\n",
       "Buenos Aires      1\n",
       "Dallas            1\n",
       "Philadelphia      1\n",
       "Miami             1\n",
       "Hatboro           1\n",
       "Name: City, Length: 140, dtype: int64"
      ]
     },
     "execution_count": 4,
     "metadata": {},
     "output_type": "execute_result"
    }
   ],
   "source": [
    "df[\"City\"].value_counts()"
   ]
  },
  {
   "cell_type": "code",
   "execution_count": 5,
   "id": "4a34ec83",
   "metadata": {},
   "outputs": [],
   "source": [
    "fun.value_counts(df, \"City_count\", \"City\")\n"
   ]
  },
  {
   "cell_type": "code",
   "execution_count": 6,
   "id": "e1299c53",
   "metadata": {},
   "outputs": [],
   "source": [
    "df = fun.keep_value(df, \"City_count\", 5.0)\n"
   ]
  },
  {
   "cell_type": "code",
   "execution_count": 7,
   "id": "fbe89a5f",
   "metadata": {
    "scrolled": true
   },
   "outputs": [
    {
     "data": {
      "text/plain": [
       "San Francisco    50\n",
       "New York         30\n",
       "San Jose         16\n",
       "Mountain View    16\n",
       "San Mateo        11\n",
       "Palo Alto        11\n",
       "Sunnyvale         9\n",
       "Seattle           8\n",
       "London            8\n",
       "Redwood City      7\n",
       "Chicago           7\n",
       "Cambridge         6\n",
       "Paris             6\n",
       "Austin            5\n",
       "Waltham           5\n",
       "Los Angeles       5\n",
       "Name: City, dtype: int64"
      ]
     },
     "execution_count": 7,
     "metadata": {},
     "output_type": "execute_result"
    }
   ],
   "source": [
    "df[\"City\"].value_counts()"
   ]
  },
  {
   "cell_type": "code",
   "execution_count": 8,
   "id": "f31cbe91",
   "metadata": {},
   "outputs": [],
   "source": [
    "# df.to_csv(\"../data/df.csv\", index=False)"
   ]
  },
  {
   "cell_type": "markdown",
   "id": "14c97c22",
   "metadata": {},
   "source": [
    "# Trying to keep different cities in different areas, we are going to keep for check the cities of San Francisco(USA), Seattle(USA), Chicago(USA), London(UK), Austin(USA) Cambridge(USA), Paris(FRA).\n"
   ]
  },
  {
   "cell_type": "code",
   "execution_count": null,
   "id": "ed65720e",
   "metadata": {},
   "outputs": [],
   "source": [
    "San_Francisco = 37.7871253,-122.4015358\n",
    "Seattle = 47.6251419,-122.3268577\n",
    "Chicago = 41.869276, -87.626694\n",
    "London = 51.4621272,-0.1162654\n",
    "Austin = 30.2663643,-97.744405\n",
    "Cambridge = 42.3731956,-71.1198561\n",
    "Paris = 48.8848037,2.3318758"
   ]
  }
 ],
 "metadata": {
  "kernelspec": {
   "display_name": "Python 3 (ipykernel)",
   "language": "python",
   "name": "python3"
  },
  "language_info": {
   "codemirror_mode": {
    "name": "ipython",
    "version": 3
   },
   "file_extension": ".py",
   "mimetype": "text/x-python",
   "name": "python",
   "nbconvert_exporter": "python",
   "pygments_lexer": "ipython3",
   "version": "3.9.13"
  }
 },
 "nbformat": 4,
 "nbformat_minor": 5
}
