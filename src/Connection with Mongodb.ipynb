{
 "cells": [
  {
   "cell_type": "code",
   "execution_count": 1,
   "id": "c3c8e239",
   "metadata": {},
   "outputs": [],
   "source": [
    "from pymongo import MongoClient\n",
    "import pandas as pd"
   ]
  },
  {
   "cell_type": "code",
   "execution_count": 2,
   "id": "06b71053",
   "metadata": {},
   "outputs": [],
   "source": [
    "client = MongoClient(\"localhost:27017\")\n",
    "db = client[\"Ironhack\"]\n",
    "c = db.get_collection(\"Companies\")"
   ]
  },
  {
   "cell_type": "code",
   "execution_count": 3,
   "id": "9d930021",
   "metadata": {},
   "outputs": [],
   "source": [
    "result = c.find_one()"
   ]
  },
  {
   "cell_type": "code",
   "execution_count": 4,
   "id": "11b06a2b",
   "metadata": {},
   "outputs": [
    {
     "data": {
      "text/plain": [
       "511"
      ]
     },
     "execution_count": 4,
     "metadata": {},
     "output_type": "execute_result"
    }
   ],
   "source": [
    "condition_one = {\"description\": {\"$regex\": \"design\"}}\n",
    "condition_two = {\"tag_list\": {\"$regex\": \"design\"}}\n",
    "condition_three = {\"name\": {\"$regex\": \"design\"}}\n",
    "condition_four = {\"category_code\": {\"$regex\": \"design\"}}\n",
    "condition_five = {\"total_money_raised\": {\"$regex\": \"M\"}}\n",
    "condition_six = {\"total_money_raised\": {\"$regex\": \"B\"}}\n",
    "\n",
    "projection = {\"name\": 1, \"number_of_employees\": 1, \"offices\": 1,\"_id\":0}\n",
    "result = list(c.find({\n",
    "    \"$or\": [\n",
    "         condition_one,\n",
    "          condition_two, condition_three,\n",
    "            condition_four,\n",
    "          condition_five,condition_six\n",
    "    ],\n",
    "    \"number_of_employees\": {\"$gte\": 100}\n",
    "}, projection))\n",
    "len(result)\n",
    "\n"
   ]
  },
  {
   "cell_type": "code",
   "execution_count": 6,
   "id": "411c3157",
   "metadata": {},
   "outputs": [
    {
     "data": {
      "text/html": [
       "<div>\n",
       "<style scoped>\n",
       "    .dataframe tbody tr th:only-of-type {\n",
       "        vertical-align: middle;\n",
       "    }\n",
       "\n",
       "    .dataframe tbody tr th {\n",
       "        vertical-align: top;\n",
       "    }\n",
       "\n",
       "    .dataframe thead th {\n",
       "        text-align: right;\n",
       "    }\n",
       "</style>\n",
       "<table border=\"1\" class=\"dataframe\">\n",
       "  <thead>\n",
       "    <tr style=\"text-align: right;\">\n",
       "      <th></th>\n",
       "      <th>name</th>\n",
       "      <th>number_of_employees</th>\n",
       "      <th>offices</th>\n",
       "    </tr>\n",
       "  </thead>\n",
       "  <tbody>\n",
       "    <tr>\n",
       "      <th>0</th>\n",
       "      <td>Facebook</td>\n",
       "      <td>5299</td>\n",
       "      <td>[{'description': 'Headquarters', 'address1': '...</td>\n",
       "    </tr>\n",
       "    <tr>\n",
       "      <th>1</th>\n",
       "      <td>Twitter</td>\n",
       "      <td>1300</td>\n",
       "      <td>[{'description': '', 'address1': '1355 Market ...</td>\n",
       "    </tr>\n",
       "    <tr>\n",
       "      <th>2</th>\n",
       "      <td>eBay</td>\n",
       "      <td>15000</td>\n",
       "      <td>[{'description': 'Headquarters', 'address1': '...</td>\n",
       "    </tr>\n",
       "    <tr>\n",
       "      <th>3</th>\n",
       "      <td>Cisco</td>\n",
       "      <td>63000</td>\n",
       "      <td>[{'description': 'Headquarters', 'address1': '...</td>\n",
       "    </tr>\n",
       "    <tr>\n",
       "      <th>4</th>\n",
       "      <td>Yahoo!</td>\n",
       "      <td>13600</td>\n",
       "      <td>[{'description': None, 'address1': '701 First ...</td>\n",
       "    </tr>\n",
       "    <tr>\n",
       "      <th>...</th>\n",
       "      <td>...</td>\n",
       "      <td>...</td>\n",
       "      <td>...</td>\n",
       "    </tr>\n",
       "    <tr>\n",
       "      <th>506</th>\n",
       "      <td>Enliven Marketing Technologies</td>\n",
       "      <td>146</td>\n",
       "      <td>[{'description': 'HQ', 'address1': '205 West 3...</td>\n",
       "    </tr>\n",
       "    <tr>\n",
       "      <th>507</th>\n",
       "      <td>800APP</td>\n",
       "      <td>200</td>\n",
       "      <td>[{'description': '', 'address1': 'Suite 1308,T...</td>\n",
       "    </tr>\n",
       "    <tr>\n",
       "      <th>508</th>\n",
       "      <td>InfoLogix</td>\n",
       "      <td>206</td>\n",
       "      <td>[{'description': '', 'address1': '101 East Cou...</td>\n",
       "    </tr>\n",
       "    <tr>\n",
       "      <th>509</th>\n",
       "      <td>smartFOCUS</td>\n",
       "      <td>550</td>\n",
       "      <td>[{'description': '', 'address1': 'One Redcliff...</td>\n",
       "    </tr>\n",
       "    <tr>\n",
       "      <th>510</th>\n",
       "      <td>OfficialVirtualDJ</td>\n",
       "      <td>102</td>\n",
       "      <td>[{'description': 'Created in London', 'address...</td>\n",
       "    </tr>\n",
       "  </tbody>\n",
       "</table>\n",
       "<p>511 rows × 3 columns</p>\n",
       "</div>"
      ],
      "text/plain": [
       "                               name  number_of_employees  \\\n",
       "0                          Facebook                 5299   \n",
       "1                           Twitter                 1300   \n",
       "2                              eBay                15000   \n",
       "3                             Cisco                63000   \n",
       "4                            Yahoo!                13600   \n",
       "..                              ...                  ...   \n",
       "506  Enliven Marketing Technologies                  146   \n",
       "507                          800APP                  200   \n",
       "508                       InfoLogix                  206   \n",
       "509                      smartFOCUS                  550   \n",
       "510               OfficialVirtualDJ                  102   \n",
       "\n",
       "                                               offices  \n",
       "0    [{'description': 'Headquarters', 'address1': '...  \n",
       "1    [{'description': '', 'address1': '1355 Market ...  \n",
       "2    [{'description': 'Headquarters', 'address1': '...  \n",
       "3    [{'description': 'Headquarters', 'address1': '...  \n",
       "4    [{'description': None, 'address1': '701 First ...  \n",
       "..                                                 ...  \n",
       "506  [{'description': 'HQ', 'address1': '205 West 3...  \n",
       "507  [{'description': '', 'address1': 'Suite 1308,T...  \n",
       "508  [{'description': '', 'address1': '101 East Cou...  \n",
       "509  [{'description': '', 'address1': 'One Redcliff...  \n",
       "510  [{'description': 'Created in London', 'address...  \n",
       "\n",
       "[511 rows x 3 columns]"
      ]
     },
     "execution_count": 6,
     "metadata": {},
     "output_type": "execute_result"
    }
   ],
   "source": []
  },
  {
   "cell_type": "code",
   "execution_count": null,
   "id": "0e04273c",
   "metadata": {},
   "outputs": [],
   "source": []
  },
  {
   "cell_type": "code",
   "execution_count": null,
   "id": "b79f4452",
   "metadata": {},
   "outputs": [],
   "source": []
  },
  {
   "cell_type": "code",
   "execution_count": null,
   "id": "f011b34f",
   "metadata": {},
   "outputs": [],
   "source": []
  },
  {
   "cell_type": "code",
   "execution_count": null,
   "id": "5384a262",
   "metadata": {},
   "outputs": [],
   "source": []
  },
  {
   "cell_type": "code",
   "execution_count": null,
   "id": "54873a75",
   "metadata": {},
   "outputs": [],
   "source": []
  }
 ],
 "metadata": {
  "kernelspec": {
   "display_name": "Python 3 (ipykernel)",
   "language": "python",
   "name": "python3"
  },
  "language_info": {
   "codemirror_mode": {
    "name": "ipython",
    "version": 3
   },
   "file_extension": ".py",
   "mimetype": "text/x-python",
   "name": "python",
   "nbconvert_exporter": "python",
   "pygments_lexer": "ipython3",
   "version": "3.9.13"
  }
 },
 "nbformat": 4,
 "nbformat_minor": 5
}
