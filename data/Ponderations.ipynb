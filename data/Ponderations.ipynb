{
 "cells": [
  {
   "cell_type": "markdown",
   "id": "055a455d",
   "metadata": {},
   "source": [
    "# Weighing the company employees\n"
   ]
  },
  {
   "cell_type": "markdown",
   "id": "d40f1eb4",
   "metadata": {},
   "source": [
    "1. \n",
    "    1 - CEO/President. \n",
    "\n",
    "2. \n",
    "    20 - Account Managers\n",
    "    5 - Backend Developers\n",
    "    15 - Data Engineers\n",
    "    10 - Frontend Developers\n",
    "    20 - Designers\n",
    "    \n",
    "3. \n",
    "    5 - UI/UX Engineers\n",
    "\n",
    "4. \n",
    "    10 - Executives\n",
    "\n",
    "5.\n",
    "    1 - Maintenance guy that loves basketball\n",
    "    "
   ]
  },
  {
   "cell_type": "markdown",
   "id": "73484f30",
   "metadata": {},
   "source": [
    "# Weighing the company employees"
   ]
  },
  {
   "cell_type": "markdown",
   "id": "acc275b8",
   "metadata": {},
   "source": [
    "Here we weight the diferent requirements for the employees"
   ]
  },
  {
   "cell_type": "markdown",
   "id": "c70cc388",
   "metadata": {},
   "source": [
    "# Requirements for Companies database\n"
   ]
  },
  {
   "cell_type": "markdown",
   "id": "5ce93713",
   "metadata": {},
   "source": [
    "- Designers like to go to design talks and share knowledge. There must be some nearby companies that also do design.\n",
    "\n",
    "- Developers like to be near successful tech startups that have raised at least 1 Million dollars.\n",
    "\n"
   ]
  },
  {
   "cell_type": "markdown",
   "id": "41ebba36",
   "metadata": {},
   "source": [
    "# Requirements for facilities around"
   ]
  },
  {
   "cell_type": "markdown",
   "id": "ae3768f7",
   "metadata": {},
   "source": [
    "- 30% of the company staff have at least 1 child.\n",
    "\n",
    "- Executives like Starbucks A LOT. Ensure there's a starbucks not too far.\n",
    "\n",
    "- Account managers need to travel a lot. (airports, good logistics...)\n",
    "\n",
    "- Everyone in the company is between 25 and 40, give them some place to go party.\n",
    "\n",
    "- The CEO is vegan.\n",
    "\n",
    "- If you want to make the maintenance guy happy, a basketball stadium must be around 10 Km.\n",
    "\n",
    "- The office dog—\"Dobby\" needs a hairdresser every month. Ensure there's one not too far away."
   ]
  }
 ],
 "metadata": {
  "kernelspec": {
   "display_name": "Python 3 (ipykernel)",
   "language": "python",
   "name": "python3"
  },
  "language_info": {
   "codemirror_mode": {
    "name": "ipython",
    "version": 3
   },
   "file_extension": ".py",
   "mimetype": "text/x-python",
   "name": "python",
   "nbconvert_exporter": "python",
   "pygments_lexer": "ipython3",
   "version": "3.9.13"
  }
 },
 "nbformat": 4,
 "nbformat_minor": 5
}
