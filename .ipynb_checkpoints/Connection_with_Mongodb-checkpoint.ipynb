{
 "cells": [
  {
   "cell_type": "code",
   "execution_count": 1,
   "id": "c3c8e239",
   "metadata": {},
   "outputs": [],
   "source": [
    "from pymongo import MongoClient\n",
    "import pandas as pd\n",
    "import src.functions as fun"
   ]
  },
  {
   "cell_type": "code",
   "execution_count": 2,
   "id": "06b71053",
   "metadata": {},
   "outputs": [],
   "source": [
    "client = MongoClient(\"localhost:27017\")\n",
    "db = client[\"Ironhack\"]\n",
    "c = db.get_collection(\"Companies\")"
   ]
  },
  {
   "cell_type": "code",
   "execution_count": 3,
   "id": "9d930021",
   "metadata": {},
   "outputs": [],
   "source": [
    "result = c.find_one()"
   ]
  },
  {
   "cell_type": "code",
   "execution_count": 4,
   "id": "11b06a2b",
   "metadata": {},
   "outputs": [
    {
     "data": {
      "text/plain": [
       "511"
      ]
     },
     "execution_count": 4,
     "metadata": {},
     "output_type": "execute_result"
    }
   ],
   "source": [
    "condition_one = {\"description\": {\"$regex\": \"design\"}}\n",
    "condition_two = {\"tag_list\": {\"$regex\": \"design\"}}\n",
    "condition_three = {\"name\": {\"$regex\": \"design\"}}\n",
    "condition_four = {\"category_code\": {\"$regex\": \"design\"}}\n",
    "condition_five = {\"total_money_raised\": {\"$regex\": \"M\"}}\n",
    "condition_six = {\"total_money_raised\": {\"$regex\": \"B\"}}\n",
    "\n",
    "projection = {\"name\": 1, \"number_of_employees\": 1, \"offices\": 1,\"_id\":0}\n",
    "result = list(c.find({\n",
    "    \"$or\": [\n",
    "         condition_one,\n",
    "          condition_two, condition_three,\n",
    "            condition_four,\n",
    "          condition_five,condition_six\n",
    "    ],\n",
    "    \"number_of_employees\": {\"$gte\": 100}\n",
    "}, projection))\n",
    "len(result)\n",
    "\n"
   ]
  },
  {
   "cell_type": "code",
   "execution_count": 5,
   "id": "88e20cb9",
   "metadata": {},
   "outputs": [],
   "source": [
    "df = pd.DataFrame(result)"
   ]
  },
  {
   "cell_type": "code",
   "execution_count": 6,
   "id": "411c3157",
   "metadata": {},
   "outputs": [
    {
     "data": {
      "text/plain": [
       "'USA'"
      ]
     },
     "execution_count": 6,
     "metadata": {},
     "output_type": "execute_result"
    }
   ],
   "source": [
    "list_offices = df[\"offices\"]\n",
    "list_offices[1][0][\"country_code\"]\n"
   ]
  },
  {
   "cell_type": "code",
   "execution_count": 7,
   "id": "0e04273c",
   "metadata": {
    "scrolled": true
   },
   "outputs": [
    {
     "ename": "NameError",
     "evalue": "name 'df' is not defined",
     "output_type": "error",
     "traceback": [
      "\u001b[1;31m---------------------------------------------------------------------------\u001b[0m",
      "\u001b[1;31mNameError\u001b[0m                                 Traceback (most recent call last)",
      "Input \u001b[1;32mIn [7]\u001b[0m, in \u001b[0;36m<cell line: 1>\u001b[1;34m()\u001b[0m\n\u001b[1;32m----> 1\u001b[0m \u001b[43mfun\u001b[49m\u001b[38;5;241;43m.\u001b[39;49m\u001b[43mget_info\u001b[49m\u001b[43m(\u001b[49m\u001b[43mlist_offices\u001b[49m\u001b[43m,\u001b[49m\u001b[43m \u001b[49m\u001b[38;5;124;43m\"\u001b[39;49m\u001b[38;5;124;43mCountry\u001b[39;49m\u001b[38;5;124;43m\"\u001b[39;49m\u001b[43m,\u001b[49m\u001b[43m \u001b[49m\u001b[38;5;124;43m\"\u001b[39;49m\u001b[38;5;124;43mcountry_code\u001b[39;49m\u001b[38;5;124;43m\"\u001b[39;49m\u001b[43m)\u001b[49m\n",
      "File \u001b[1;32m~\\Desktop\\Ironhack\\Projects\\Project_3.0\\project-III-geospatial-data\\src\\functions.py:12\u001b[0m, in \u001b[0;36mget_info\u001b[1;34m(lista, a, b)\u001b[0m\n\u001b[0;32m     10\u001b[0m     \u001b[38;5;28;01mexcept\u001b[39;00m:\n\u001b[0;32m     11\u001b[0m         append_data\u001b[38;5;241m.\u001b[39mappend(\u001b[38;5;124m\"\u001b[39m\u001b[38;5;124mnull\u001b[39m\u001b[38;5;124m\"\u001b[39m)\n\u001b[1;32m---> 12\u001b[0m \u001b[43mdf\u001b[49m[a]\u001b[38;5;241m=\u001b[39m append_data\n\u001b[0;32m     13\u001b[0m \u001b[38;5;28;01mreturn\u001b[39;00m\n",
      "\u001b[1;31mNameError\u001b[0m: name 'df' is not defined"
     ]
    }
   ],
   "source": [
    "fun.get_info(list_offices, \"Country\", \"country_code\")\n"
   ]
  },
  {
   "cell_type": "code",
   "execution_count": null,
   "id": "b79f4452",
   "metadata": {},
   "outputs": [],
   "source": [
    "df[\"Country\"]"
   ]
  },
  {
   "cell_type": "code",
   "execution_count": null,
   "id": "f011b34f",
   "metadata": {},
   "outputs": [],
   "source": [
    "get_info(\"Address\", \"address1\")"
   ]
  },
  {
   "cell_type": "code",
   "execution_count": null,
   "id": "5384a262",
   "metadata": {},
   "outputs": [],
   "source": [
    "df[\"Address\"]"
   ]
  },
  {
   "cell_type": "code",
   "execution_count": null,
   "id": "54873a75",
   "metadata": {},
   "outputs": [],
   "source": []
  }
 ],
 "metadata": {
  "kernelspec": {
   "display_name": "Python 3 (ipykernel)",
   "language": "python",
   "name": "python3"
  },
  "language_info": {
   "codemirror_mode": {
    "name": "ipython",
    "version": 3
   },
   "file_extension": ".py",
   "mimetype": "text/x-python",
   "name": "python",
   "nbconvert_exporter": "python",
   "pygments_lexer": "ipython3",
   "version": "3.9.13"
  }
 },
 "nbformat": 4,
 "nbformat_minor": 5
}
